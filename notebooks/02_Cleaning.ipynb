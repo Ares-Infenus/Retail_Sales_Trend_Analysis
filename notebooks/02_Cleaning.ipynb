{
 "cells": [
  {
   "cell_type": "markdown",
   "id": "60c6a796",
   "metadata": {},
   "source": [
    "Thought for a second\n",
    "\n",
    "\n",
    "**Capítulo 2: Limpieza y Preparación de Datos**\n",
    "\n",
    "Después de haber recorrido en el Capítulo 1 (01\\_EDA) el universo de datos—sus orígenes, estructura, calidad y primeras revelaciones—llegamos al umbral de nuestro Capítulo 2: “Limpieza y Preparación de los Datos” (02\\_clear). En esta nueva sección, nos sumergiremos en la transformación necesaria para convertir la materia prima analizada en un insumo confiable para el modelado predictivo.\n",
    "\n",
    "En el notebook anterior, identificamos:\n",
    "\n",
    "1. **Vacíos y valores atípicos** en la columna `onpromotion`, que, al exhibir cerca del 17 % de registros nulos, obligan a una estrategia de imputación clara.\n",
    "2. **Huecos y duplicados** en la serie temporal de precios de crudo (`dcoilwtico`), con 43 valores faltantes y 220 entradas redundantes, lo que compromete la integridad de la variable macroeconómica más sensible para nuestros modelos.\n",
    "3. **Oportunidades de mejora** en la alineación temporal de todos los datasets, así como la necesidad de homogeneizar formatos de fecha y tipos de dato para facilitar el procesamiento distribuido.\n",
    "\n",
    "Por ello, en este Capítulo 2 procederemos a:\n",
    "\n",
    "* **Reparar `train.csv`**: mediante Dask, leeremos en particiones controladas el conjunto de entrenamiento, rellenaremos todos los `NaN` de `onpromotion` con `False`, y generaremos un único CSV optimizado para GPU y carga distribuida.\n",
    "* **Refrescar la serie de `oil.csv`**: descargaremos la fuente diaria de Dukascopy, convertiremos las marcas de tiempo a fechas limpias, seleccionaremos únicamente el cierre (`Close`) renombrado a `dcoilwtico`, y exportaremos un CSV definitivo sin huecos ni duplicados.\n",
    "\n",
    "Con ello, garantizamos que los datos —libres de inconsistencia y preparados para el escalado paralelo— puedan alimentar sin fricción nuestra fase de ingeniería de características y modelado. Así, el Capítulo 2 no es un mero trámite: es el cimiento que sostendrá la precisión y la robustez de las predicciones de ventas diarias que persigue Corporación Favorita. Continuemos, pues, la historia de nuestro análisis hacia un entorno limpio y ordenado, listo para extraer conocimiento de forma confiable.\n"
   ]
  },
  {
   "cell_type": "markdown",
   "id": "c9553a0c",
   "metadata": {},
   "source": [
    "Bueno ahora que sabemosque preguntas podemos rsolver cosa que nos generaran insgiht beneficiosos para la empresa antes e hacer una einvestigacion exhaustiva primero tenemos que limpiar y arregla el set de dato par que sean aptos para una analiis \n",
    "\n",
    "hay varios problemas identificados que trataremos resolver aqui en el notebook:\n",
    "primero la limpieza de eldaataframe train y el remplazon de nan en el daatafrane oil\n",
    "\n"
   ]
  },
  {
   "cell_type": "markdown",
   "id": "737314bd",
   "metadata": {},
   "source": [
    "## DataFrame `train.csv`\n",
    "\n",
    "En este DataFrame se llevará a cabo el tratamiento y limpieza de la columna `onpromotion`.\n"
   ]
  },
  {
   "cell_type": "code",
   "execution_count": null,
   "id": "166399ff",
   "metadata": {},
   "outputs": [
    {
     "name": "stdout",
     "output_type": "stream",
     "text": [
      "[########################################] | 100% Completed | 482.92 s\n",
      "Exportación completada en: ../data/processed/clear_train.csv\n"
     ]
    }
   ],
   "source": [
    "import pandas as pd\n",
    "import dask.dataframe as dd\n",
    "from dask.diagnostics import ProgressBar\n",
    "import glob\n",
    "import os\n",
    "\n",
    "# Para que pandas no haga downcasting automático en el futuro\n",
    "pd.set_option('future.no_silent_downcasting', True)\n",
    "\n",
    "# Rutas de entrada y salida\n",
    "INPUT_PATH   = \"../data/raw/train.csv\"\n",
    "OUTPUT_DIR   = \"../data/processed/parted_train\"  # Directorio temporal con particiones CSV\n",
    "FINAL_OUTPUT = \"../data/processed/clear_train.csv\"  # Archivo único final\n",
    "\n",
    "# Carga del DataFrame con Dask (ajusta blocksize según tu memoria)\n",
    "df = dd.read_csv(\n",
    "    INPUT_PATH,\n",
    "    assume_missing=True,\n",
    "    blocksize=\"32MB\",   # particiones más pequeñas para evitar OOM\n",
    "    low_memory=False,\n",
    "    dtype={\"onpromotion\": \"boolean\"}\n",
    ")\n",
    "\n",
    "# Rellenar NaNs en \"onpromotion\" y convertir a bool\n",
    "filled = df.assign(\n",
    "    onpromotion=df[\"onpromotion\"].fillna(False).astype(bool)\n",
    ")\n",
    "\n",
    "# Exportar particiones a CSV en OUTPUT_DIR\n",
    "os.makedirs(OUTPUT_DIR, exist_ok=True)\n",
    "with ProgressBar():\n",
    "    filled.to_csv(\n",
    "        os.path.join(OUTPUT_DIR, \"part-*.csv\"),\n",
    "        index=False,\n",
    "        header=True\n",
    "    )\n",
    "\n",
    "# Unir particiones en un solo archivo CSV (concatenando sin duplicar encabezados)\n",
    "csv_files = sorted(glob.glob(os.path.join(OUTPUT_DIR, \"part-*.csv\")))\n",
    "with open(FINAL_OUTPUT, 'w', encoding='utf-8') as fout:\n",
    "    header_written = False\n",
    "    for fname in csv_files:\n",
    "        with open(fname, 'r', encoding='utf-8') as fin:\n",
    "            for i, line in enumerate(fin):\n",
    "                if i == 0:\n",
    "                    if not header_written:\n",
    "                        fout.write(line)\n",
    "                        header_written = True\n",
    "                else:\n",
    "                    fout.write(line)\n",
    "\n",
    "print(\"Exportación completada en:\", FINAL_OUTPUT)\n"
   ]
  },
  {
   "cell_type": "markdown",
   "id": "e8c1adec",
   "metadata": {},
   "source": [
    "## Corrección del DataFrame descargado mediante Dukascopy\n",
    "\n",
    "Se procederá a realizar el tratamiento del DataFrame descargado a través de Dukascopy, el cual contiene datos actualizados sobre el precio del petróleo.\n",
    "\n",
    "Dado que eliminar estos datos podría implicar la pérdida de información valiosa y promediarlos podría inducir errores, se ha optado por utilizar datos completos obtenidos directamente desde el bróker Dukascopy.\n"
   ]
  },
  {
   "cell_type": "markdown",
   "id": "8a3d08b9",
   "metadata": {},
   "source": [
    "> Se realizará una depuración del DataFrame (`oil_raw_Dukascopy.csv`) descargado a través del sitio web de Dukascopy, el cual contiene información detallada sobre el precio del petróleo.  \n",
    ">  \n",
    "> Durante este proceso, se eliminarán las columnas innecesarias y se corregirá el formato de la columna de fecha, ya que los datos descargados desde la página web suelen incluir información irrelevante.  \n",
    ">  \n",
    "> El objetivo es unificar la estructura del nuevo conjunto de datos con la del conjunto de datos original (`oil.csv`), asegurando que ambas fuentes tengan nombres de columnas consistentes y formatos homogéneos para facilitar su integración y análisis posterior.\n"
   ]
  },
  {
   "cell_type": "code",
   "execution_count": 4,
   "id": "3282ca86",
   "metadata": {},
   "outputs": [
    {
     "name": "stderr",
     "output_type": "stream",
     "text": [
      "C:\\Users\\spinz\\AppData\\Local\\Temp\\ipykernel_26000\\1321048040.py:9: UserWarning: Parsing dates in %d.%m.%Y %H:%M:%S.%f GMT%z format when dayfirst=False (the default) was specified. Pass `dayfirst=True` or specify a format to silence this warning.\n",
      "  df['date'] = pd.to_datetime(df['Local time']).dt.date\n"
     ]
    }
   ],
   "source": [
    "import pandas as pd\n",
    "\n",
    "# 1. Leer el CSV (ajusta 'ruta/al/archivo.csv' al nombre de tu fichero)\n",
    "input_path = '../data/raw/oil_raw_Dukascopy.csv'\n",
    "df = pd.read_csv(input_path, sep=',')\n",
    "\n",
    "# 2. Convertir \"Local time\" a datetime y quedarnos solo con la fecha\n",
    "#    Pandas detecta automáticamente el offset GMT-0500\n",
    "df['date'] = pd.to_datetime(df['Local time']).dt.date\n",
    "\n",
    "# 3. Seleccionar solo las columnas de interés\n",
    "df = df[['date', 'Close']]\n",
    "\n",
    "# 4. Renombrar \"Close\" a \"dcoilwtico\"\n",
    "df = df.rename(columns={'Close': 'dcoilwtico'})\n",
    "\n",
    "# 5. Exportar el resultado a la ruta que especifiques\n",
    "#    Ajusta 'ruta/de/salida.csv' a la dirección deseada\n",
    "output_path = '../data/processed/clear_oil_raw_Dukascopy.csv'\n",
    "df.to_csv(output_path, index=False)\n"
   ]
  }
 ],
 "metadata": {
  "kernelspec": {
   "display_name": "base",
   "language": "python",
   "name": "python3"
  },
  "language_info": {
   "codemirror_mode": {
    "name": "ipython",
    "version": 3
   },
   "file_extension": ".py",
   "mimetype": "text/x-python",
   "name": "python",
   "nbconvert_exporter": "python",
   "pygments_lexer": "ipython3",
   "version": "3.12.7"
  }
 },
 "nbformat": 4,
 "nbformat_minor": 5
}
